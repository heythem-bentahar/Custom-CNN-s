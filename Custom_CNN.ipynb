{
 "cells": [
  {
   "cell_type": "markdown",
   "metadata": {},
   "source": [
    "### Importing Necessary Libraries:"
   ]
  },
  {
   "cell_type": "code",
   "execution_count": null,
   "id": "f9f2dd12",
   "metadata": {},
   "outputs": [],
   "source": [
    "import tensorflow as tf\n",
    "import keras\n",
    "from keras import datasets, layers, models\n",
    "from keras.layers import Input, Lambda, Dense, Flatten,Conv2D, MaxPooling2D, Activation, Dropout\n",
    "from keras import models\n",
    "from keras.preprocessing import image\n",
    "from keras.preprocessing.image import ImageDataGenerator,load_img\n",
    "from keras.models import Sequential\n",
    "import numpy as np\n",
    "from glob import glob\n",
    "import matplotlib.pyplot as plt\n",
    "from tensorflow.keras.models import load_model"
   ]
  },
  {
   "cell_type": "markdown",
   "metadata": {},
   "source": [
    "#### Defining Data Path:"
   ]
  },
  {
   "cell_type": "code",
   "execution_count": null,
   "id": "0cb71646",
   "metadata": {},
   "outputs": [],
   "source": [
    "#Defining Data Path\n",
    "\n",
    "train_path = 'C:/Users/Administrator/Desktop/PPP/DataSet2/Training/'\n",
    "valid_path = 'C:/Users/Administrator/Desktop/PPP/DataSet2/Validation/'\n",
    "#test_path = 'C:/Users/Administrator/Desktop/PPP/DataSet2/Testing/'"
   ]
  },
  {
   "cell_type": "markdown",
   "metadata": {},
   "source": [
    "#### Data generator with TF:"
   ]
  },
  {
   "cell_type": "code",
   "execution_count": null,
   "id": "b898c9c4",
   "metadata": {},
   "outputs": [],
   "source": [
    "# Data generator with TF\n",
    "\n",
    "from tensorflow.keras.preprocessing.image import ImageDataGenerator\n",
    "\n",
    "train_datagen = ImageDataGenerator(rescale = 1./255,\n",
    "                                   shear_range = 0.2,\n",
    "                                   zoom_range = 0.2,\n",
    "                                   horizontal_flip = True)\n",
    "\n",
    "test_datagen = ImageDataGenerator(rescale = 1./255)\n",
    "\n",
    "train_set = train_datagen.flow_from_directory(train_path,\n",
    "                                                 target_size = (224, 224),\n",
    "                                                 batch_size = 32,\n",
    "                                                 class_mode = 'categorical',\n",
    "                                                 color_mode = \"rgb\")\n",
    "\"\"\"\n",
    "test_set = test_datagen.flow_from_directory(test_path,\n",
    "                                            target_size = (224, 224),\n",
    "                                            batch_size = 32,\n",
    "                                            class_mode = 'categorical',\n",
    "                                            color_mode = \"rgb\",\n",
    "                                            shuffle=False\n",
    "                                            \n",
    "                                           )\n",
    "\"\"\"\"\"\n",
    "\n",
    "valid_set = test_datagen.flow_from_directory(valid_path,\n",
    "                                                        target_size=(224,224),\n",
    "                                                        batch_size=32,\n",
    "                                                        class_mode='categorical',\n",
    "                                                        color_mode = \"rgb\",\n",
    "                                                        shuffle=False\n",
    "                                                        )"
   ]
  },
  {
   "cell_type": "markdown",
   "metadata": {},
   "source": [
    "### Printing some samples:"
   ]
  },
  {
   "cell_type": "code",
   "execution_count": null,
   "id": "81e64050",
   "metadata": {},
   "outputs": [],
   "source": [
    "# Data Samples \n",
    "\n",
    "for _ in range(5):\n",
    "    img, label = training_set.next()\n",
    "    print(img.shape)\n",
    "    plt.imshow(img[0])\n",
    "    plt.show()"
   ]
  },
  {
   "cell_type": "markdown",
   "metadata": {},
   "source": [
    "### Building the model (Sequential approrach):"
   ]
  },
  {
   "cell_type": "code",
   "execution_count": null,
   "id": "e14d9a13",
   "metadata": {},
   "outputs": [],
   "source": [
    "# Building the model (Sequential approrach)\n",
    "\n",
    "model = Sequential()\n",
    "\n",
    "model.add(Conv2D(16, (3, 3), input_shape=(224,224,3)))\n",
    "model.add(Activation('relu'))\n",
    "model.add(MaxPooling2D(pool_size=(2, 2)))\n",
    "model.add(Conv2D(32, (3, 3)))\n",
    "model.add(Activation('relu'))\n",
    "model.add(Conv2D(32, (3, 3)))\n",
    "model.add(Activation('relu'))\n",
    "model.add(MaxPooling2D(pool_size=(2, 2)))\n",
    "model.add(Conv2D(64, (3, 3)))\n",
    "model.add(Activation('relu'))\n",
    "model.add(Conv2D(64, (3, 3)))\n",
    "model.add(Activation('relu'))\n",
    "model.add(Conv2D(64, (3, 3)))\n",
    "model.add(Activation('relu'))\n",
    "model.add(MaxPooling2D(pool_size=(2, 2)))\n",
    "model.add(Conv2D(128, (3, 3)))\n",
    "model.add(Activation('relu'))\n",
    "model.add(Conv2D(128, (3, 3)))\n",
    "model.add(Activation('relu'))\n",
    "model.add(MaxPooling2D(pool_size=(2, 2)))\n",
    "model.add(Conv2D(256, (3, 3)))\n",
    "model.add(Activation('relu'))\n",
    "model.add(Conv2D(256, (3, 3)))\n",
    "model.add(Activation('relu'))\n",
    "\n",
    "model.add(Flatten())\n",
    "\n",
    "model.add(Activation('relu'))\n",
    "model.add(Dense(3))\n",
    "model.add(Activation('softmax'))\n",
    "\n",
    "model.summary()\n"
   ]
  },
  {
   "cell_type": "markdown",
   "metadata": {},
   "source": [
    "### Model Compilation and training:"
   ]
  },
  {
   "cell_type": "code",
   "execution_count": null,
   "id": "d641b817",
   "metadata": {},
   "outputs": [],
   "source": [
    "# Model Compilation\n",
    "\n",
    "model.compile(\n",
    "  loss='categorical_crossentropy',\n",
    "  optimizer='Adam',\n",
    "  metrics=['accuracy']\n",
    ")"
   ]
  },
  {
   "cell_type": "code",
   "execution_count": null,
   "id": "e2a0bccd",
   "metadata": {},
   "outputs": [],
   "source": [
    "# Training \n",
    "\n",
    "with tf.device('/GPU:0'):\n",
    "    history = model.fit(train_set, epochs=30, \n",
    "                        validation_data=valid_set,\n",
    "                        steps_per_epoch=len(train_set),\n",
    "                        validation_steps=len(valid_set),\n",
    "                        batch_size = 64)"
   ]
  },
  {
   "cell_type": "markdown",
   "metadata": {},
   "source": [
    "### Model assessment and printing some metrics:"
   ]
  },
  {
   "cell_type": "code",
   "execution_count": null,
   "id": "2954433c",
   "metadata": {},
   "outputs": [],
   "source": [
    "# Model training history visualization\n",
    "\n",
    "plt.plot(history.history['loss'], label='train loss')\n",
    "plt.plot(history.history['val_loss'], label='val loss')\n",
    "plt.legend()\n",
    "plt.show()\n",
    "plt.savefig('LossVal_loss')\n",
    "# accuracies\n",
    "plt.plot(history.history['accuracy'], label='train acc')\n",
    "plt.plot(history.history['val_accuracy'], label='val acc')\n",
    "plt.legend()\n",
    "plt.show()\n",
    "plt.savefig('AccVal_acc')"
   ]
  },
  {
   "cell_type": "code",
   "execution_count": null,
   "id": "16eb6cd3",
   "metadata": {},
   "outputs": [],
   "source": [
    "# Calling `save('my_model.h5')` creates a h5 file `my_model.h5`.\n",
    "model.save(\"Cnn.h5\")\n",
    "\n",
    "# It can be used to reconstruct the model identically.\n",
    "#reconstructed_model = keras.models.load_model(\"Cnn.h5\")"
   ]
  },
  {
   "cell_type": "code",
   "execution_count": null,
   "id": "36767a49",
   "metadata": {},
   "outputs": [],
   "source": [
    "from sklearn.metrics import classification_report, confusion_matrix\n",
    "\n",
    "# Confusion Matrix Output\n",
    "\n",
    "Y_pred = model.predict_generator(test_set, 1705 // 32+1)\n",
    "y_pred = np.argmax(Y_pred, axis=1)\n",
    "print('Confusion Matrix')\n",
    "print(confusion_matrix(test_set.classes, y_pred))\n",
    "print('Classification Report')\n",
    "target_names = ['Glioma', 'meningioma', 'no_Tumor', 'pituitary']\n",
    "print(classification_report(test_set.classes, y_pred, target_names=target_names))"
   ]
  },
  {
   "cell_type": "code",
   "execution_count": null,
   "id": "92ca103d",
   "metadata": {},
   "outputs": [],
   "source": [
    "import matplotlib.pyplot as plt \n",
    "from sklearn.preprocessing import LabelBinarizer\n",
    "from sklearn.metrics import roc_curve, auc, roc_auc_score\n",
    "\n",
    "\n",
    "target= ['Glioma', 'meningioma', 'no_Tumor', 'pituitary']\n",
    "\n",
    "# set plot figure size\n",
    "fig, c_ax = plt.subplots(1,1, figsize = (12, 8))\n",
    "\n",
    "# function for scoring roc auc score for multi-class\n",
    "def multiclass_roc_auc_score(y_test, y_pred, average=\"macro\"):\n",
    "    lb = LabelBinarizer()\n",
    "    lb.fit(y_test)\n",
    "    y_test = lb.transform(y_test)\n",
    "    y_pred = lb.transform(y_pred)\n",
    "\n",
    "    for (idx, c_label) in enumerate(target):\n",
    "        fpr, tpr, thresholds = roc_curve(y_test[:,idx].astype(int), y_pred[:,idx])\n",
    "        c_ax.plot(fpr, tpr, label = '%s (AUC:%0.2f)'  % (c_label, auc(fpr, tpr)))\n",
    "    c_ax.plot(fpr, fpr, 'b-', label = 'Random Guessing')\n",
    "    return roc_auc_score(y_test, y_pred, average=average)\n",
    "\n",
    "y_pred = model.predict_generator(test_set, verbose = True)\n",
    "y_pred = np.argmax(y_pred, axis=1)\n",
    "print('ROC AUC score:', multiclass_roc_auc_score(test_set.classes, y_pred))\n",
    "\n",
    "\n",
    "c_ax.legend()\n",
    "c_ax.set_xlabel('False Positive Rate')\n",
    "c_ax.set_ylabel('True Positive Rate')\n",
    "plt.show()\n"
   ]
  },
  {
   "cell_type": "code",
   "execution_count": null,
   "id": "693c5741",
   "metadata": {},
   "outputs": [],
   "source": [
    "# Some Optional visualization\n",
    "import seaborn as sns\n",
    "figure = plt.figure(figsize=(8, 8))\n",
    "sns.heatmap(con_mat_df, annot=True,cmap=plt.cm.Blues)\n",
    "plt.tight_layout()\n",
    "plt.ylabel('True label')\n",
    "plt.xlabel('Predicted label')\n",
    "plt.show()"
   ]
  },
  {
   "cell_type": "code",
   "execution_count": null,
   "id": "ec55e7dc",
   "metadata": {},
   "outputs": [],
   "source": [
    "valid_loss, valid_accuracy = model.evaluate(valid_set)\n",
    "\n",
    "print(valid_accuracy)"
   ]
  }
 ],
 "metadata": {
  "kernelspec": {
   "display_name": "Python 3 (ipykernel)",
   "language": "python",
   "name": "python3"
  },
  "language_info": {
   "codemirror_mode": {
    "name": "ipython",
    "version": 3
   },
   "file_extension": ".py",
   "mimetype": "text/x-python",
   "name": "python",
   "nbconvert_exporter": "python",
   "pygments_lexer": "ipython3",
   "version": "3.9.7"
  }
 },
 "nbformat": 4,
 "nbformat_minor": 5
}
